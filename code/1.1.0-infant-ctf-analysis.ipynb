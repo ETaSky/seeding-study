{
 "cells": [
  {
   "cell_type": "code",
   "execution_count": 1,
   "metadata": {},
   "outputs": [
    {
     "ename": "ModuleNotFoundError",
     "evalue": "No module named 'qiime2'",
     "output_type": "error",
     "traceback": [
      "\u001b[1;31m---------------------------------------------------------------------------\u001b[0m",
      "\u001b[1;31mModuleNotFoundError\u001b[0m                       Traceback (most recent call last)",
      "\u001b[1;32m<ipython-input-1-85c749d76f92>\u001b[0m in \u001b[0;36m<module>\u001b[1;34m\u001b[0m\n\u001b[0;32m      1\u001b[0m \u001b[1;32mimport\u001b[0m \u001b[0mpandas\u001b[0m \u001b[1;32mas\u001b[0m \u001b[0mpd\u001b[0m\u001b[1;33m\u001b[0m\u001b[1;33m\u001b[0m\u001b[0m\n\u001b[1;32m----> 2\u001b[1;33m \u001b[1;32mimport\u001b[0m \u001b[0mqiime2\u001b[0m \u001b[1;32mas\u001b[0m \u001b[0mq2\u001b[0m\u001b[1;33m\u001b[0m\u001b[1;33m\u001b[0m\u001b[0m\n\u001b[0m\u001b[0;32m      3\u001b[0m \u001b[1;32mimport\u001b[0m \u001b[0mnumpy\u001b[0m \u001b[1;32mas\u001b[0m \u001b[0mnp\u001b[0m\u001b[1;33m\u001b[0m\u001b[1;33m\u001b[0m\u001b[0m\n\u001b[0;32m      4\u001b[0m \u001b[1;32mfrom\u001b[0m \u001b[0mbiom\u001b[0m \u001b[1;32mimport\u001b[0m \u001b[0mload_table\u001b[0m\u001b[1;33m,\u001b[0m \u001b[0mTable\u001b[0m\u001b[1;33m\u001b[0m\u001b[1;33m\u001b[0m\u001b[0m\n\u001b[0;32m      5\u001b[0m \u001b[1;32mfrom\u001b[0m \u001b[0mqiime2\u001b[0m\u001b[1;33m.\u001b[0m\u001b[0mplugins\u001b[0m\u001b[1;33m.\u001b[0m\u001b[0mgemelli\u001b[0m\u001b[1;33m.\u001b[0m\u001b[0mactions\u001b[0m \u001b[1;32mimport\u001b[0m \u001b[0mctf\u001b[0m\u001b[1;33m\u001b[0m\u001b[1;33m\u001b[0m\u001b[0m\n",
      "\u001b[1;31mModuleNotFoundError\u001b[0m: No module named 'qiime2'"
     ]
    }
   ],
   "source": [
    "import pandas as pd\n",
    "import qiime2 as q2\n",
    "import numpy as np\n",
    "from biom import load_table, Table\n",
    "from qiime2.plugins.gemelli.actions import ctf\n",
    "from qiime2.plugins.longitudinal.actions import volatility\n"
   ]
  },
  {
   "cell_type": "markdown",
   "metadata": {},
   "source": [
    "# Skin"
   ]
  },
  {
   "cell_type": "code",
   "execution_count": 3,
   "metadata": {},
   "outputs": [
    {
     "name": "stderr",
     "output_type": "stream",
     "text": [
      "/Users/cmartino/miniconda3/envs/qiime2-2019.7/lib/python3.6/site-packages/gemelli/preprocessing.py:356: RuntimeWarning: Subject(s) (HR.18,HR.38,HR.2,NY.27,NY.2,CH.6B,HR.24,NY.4) contains multiple samples. Multiple subject counts will be meaned across samples by subject.\n",
      "  RuntimeWarning)\n"
     ]
    }
   ],
   "source": [
    "# subset skin\n",
    "bt_tmp = q2.Artifact.load('../data/split-data/Baby-Right_Forearm/table.qza')\n",
    "mf_tmp = q2.Metadata.load('../data/split-data/Baby-Right_Forearm/metadata.qza').to_dataframe()\n",
    "\n",
    "# build metadata\n",
    "mf_tmp = mf_tmp[mf_tmp.date_sampling_category_days_continuous.astype(float) <= 360]\n",
    "# filter the data by frequency\n",
    "bt_tmp = bt_tmp.view(Table).copy()\n",
    "bt_tmp = bt_tmp.filter(mf_tmp.index)\n",
    "freq_filts = bt_tmp.matrix_data.toarray().astype(bool).astype(int).sum(axis=1) \\\n",
    "              > int(.01 * bt_tmp.shape[1])\n",
    "bt_tmp = bt_tmp.filter(bt_tmp.ids('observation')[freq_filts], axis='observation')\n",
    "mf_tmp = mf_tmp.reindex(bt_tmp.ids())\n",
    "\n",
    "# import into qiime2\n",
    "q2bt_tmp =  q2.Artifact.import_data('FeatureTable[Frequency]', bt_tmp)\n",
    "q2mf_tmp = q2.Metadata(mf_tmp)\n",
    "\n",
    "# run ctf (increased iterations)\n",
    "skin_res = ctf(q2bt_tmp,\n",
    "               q2mf_tmp,\n",
    "               'subjectid_unique',\n",
    "               'date_sampling_category_days_continuous',\n",
    "                n_components = 6,\n",
    "                max_iterations_als = 200,\n",
    "                max_iterations_rptm = 200,\n",
    "                n_initializations = 200)\n",
    "# save results\n",
    "for name_, art_ in skin_res.__dict__.items():\n",
    "    if name_ != '_fields':\n",
    "        art_.save('../data/ctf-results/skin/%s' % name_)\n"
   ]
  },
  {
   "cell_type": "markdown",
   "metadata": {},
   "source": [
    "# Fecal"
   ]
  },
  {
   "cell_type": "code",
   "execution_count": 4,
   "metadata": {},
   "outputs": [
    {
     "name": "stderr",
     "output_type": "stream",
     "text": [
      "/Users/cmartino/miniconda3/envs/qiime2-2019.7/lib/python3.6/site-packages/gemelli/preprocessing.py:356: RuntimeWarning: Subject(s) (ECAM.12.B,ECAM.57.B,NY.8,ECAM.10.B,ECAM.41.B,ECAM.2.B,ECAM.20.B,ECAM.1.B,ECAM.7.B,ECAM.31.B,ECAM.36.B,ECAM.35.B,ECAM.38.B,HR.2,ECAM.32.B,ECAM.52.B,ECAM.4.B,HR.24,ECAM.25.B,ECAM.56.B,ECAM.44.B,ECAM.43.B,NY.6,ECAM.30.B,ECAM.53.B,ECAM.27.B,NY.14,ECAM.42.B,ECAM.17.B,ECAM.8.B,NY.23,NY.22,ECAM.24.B,PR.58,ECAM.5.B,ECAM.55.B,NY.25,ECAM.23.B,ECAM.47.B,ECAM.33.B,ECAM.22.B,ECAM.37.B,ECAM.45.B,CO.1,ECAM.46.B,ECAM.49.B,ECAM.34.B) contains multiple samples. Multiple subject counts will be meaned across samples by subject.\n",
      "  RuntimeWarning)\n"
     ]
    }
   ],
   "source": [
    "# subset fecal\n",
    "bt_tmp = q2.Artifact.load('../data/split-data/Baby-Feces/table.qza')\n",
    "mf_tmp = q2.Metadata.load('../data/split-data/Baby-Feces/metadata.qza').to_dataframe()\n",
    "\n",
    "# build metadata\n",
    "mf_tmp = mf_tmp[mf_tmp.date_sampling_category_days_continuous.astype(float) <= 360]\n",
    "mf_tmp = mf_tmp[~mf_tmp.isin([np.nan])]\n",
    "# filter the data by frequency\n",
    "bt_tmp = bt_tmp.view(Table).copy()\n",
    "bt_tmp = bt_tmp.filter(mf_tmp.index)\n",
    "freq_filts = bt_tmp.matrix_data.toarray().astype(bool).astype(int).sum(axis=1) > int(.01 * bt_tmp.shape[1])\n",
    "bt_tmp = bt_tmp.filter(bt_tmp.ids('observation')[freq_filts], axis='observation')\n",
    "mf_tmp = mf_tmp.reindex(bt_tmp.ids())\n",
    "\n",
    "# import into qiime2\n",
    "q2bt_tmp =  q2.Artifact.import_data('FeatureTable[Frequency]', bt_tmp)\n",
    "q2mf_tmp = q2.Metadata(mf_tmp)\n",
    "\n",
    "# run ctf (creased iterations)\n",
    "fecal_res = ctf(q2bt_tmp,\n",
    "               q2mf_tmp,\n",
    "               'subjectid_unique',\n",
    "               'date_sampling_category_days_continuous',\n",
    "                n_components = 3,\n",
    "                max_iterations_als = 55,\n",
    "                max_iterations_rptm = 55,\n",
    "                n_initializations = 55)\n",
    "\n",
    "for name_, art_ in fecal_res.__dict__.items():\n",
    "    if name_ != '_fields':\n",
    "        art_.save('../data/ctf-results/fecal/%s' % name_)\n"
   ]
  },
  {
   "cell_type": "markdown",
   "metadata": {},
   "source": [
    "# Oral"
   ]
  },
  {
   "cell_type": "code",
   "execution_count": 5,
   "metadata": {},
   "outputs": [
    {
     "name": "stderr",
     "output_type": "stream",
     "text": [
      "/Users/cmartino/miniconda3/envs/qiime2-2019.7/lib/python3.6/site-packages/gemelli/preprocessing.py:356: RuntimeWarning: Subject(s) (CH.2B,HR.18,CH.13B,NY.16,CH.4B,HR.2,CH.12B,CH.18B,HR.24,CH.3B,CH.7B,CH.11B,CH.10B,NY.14,NY.23,CH.8B,NY.22,HR.38,CH.9B,NY.2,CH.1B,CH.6B,CH.5B,CO.1) contains multiple samples. Multiple subject counts will be meaned across samples by subject.\n",
      "  RuntimeWarning)\n"
     ]
    }
   ],
   "source": [
    "# subset oral\n",
    "bt_tmp = q2.Artifact.load('../data/split-data/Baby-Mouth/table.qza')\n",
    "mf_tmp = q2.Metadata.load('../data/split-data/Baby-Mouth/metadata.qza').to_dataframe()\n",
    "\n",
    "# build metadata\n",
    "mf_tmp = mf_tmp[mf_tmp.date_sampling_category_days_continuous.astype(float) <= 360]\n",
    "# filter the data by frequency\n",
    "bt_tmp = bt_tmp.view(Table).copy()\n",
    "bt_tmp = bt_tmp.filter(mf_tmp.index)\n",
    "freq_filts = bt_tmp.matrix_data.toarray().astype(bool).astype(int).sum(axis=1) > int(.05 * bt_tmp.shape[1])\n",
    "bt_tmp = bt_tmp.filter(bt_tmp.ids('observation')[freq_filts], axis='observation')\n",
    "mf_tmp = mf_tmp.reindex(bt_tmp.ids())\n",
    "\n",
    "# import into qiime2\n",
    "q2bt_tmp =  q2.Artifact.import_data('FeatureTable[Frequency]', bt_tmp)\n",
    "q2mf_tmp = q2.Metadata(mf_tmp)\n",
    "\n",
    "# run ctf (increased iterations)\n",
    "oral_res = ctf(q2bt_tmp,\n",
    "               q2mf_tmp,\n",
    "               'subjectid_unique',\n",
    "               'date_sampling_category_days_continuous',\n",
    "                n_components = 4,\n",
    "                max_iterations_als = 25,\n",
    "                max_iterations_rptm = 25,\n",
    "                n_initializations = 25)\n",
    "\n",
    "for name_, art_ in oral_res.__dict__.items():\n",
    "    if name_ != '_fields':\n",
    "        art_.save('../data/ctf-results/oral/%s' % name_)\n"
   ]
  },
  {
   "cell_type": "code",
   "execution_count": null,
   "metadata": {},
   "outputs": [],
   "source": []
  }
 ],
 "metadata": {
  "kernelspec": {
   "display_name": "Python 3",
   "language": "python",
   "name": "python3"
  },
  "language_info": {
   "codemirror_mode": {
    "name": "ipython",
    "version": 3
   },
   "file_extension": ".py",
   "mimetype": "text/x-python",
   "name": "python",
   "nbconvert_exporter": "python",
   "pygments_lexer": "ipython3",
   "version": "3.7.3"
  }
 },
 "nbformat": 4,
 "nbformat_minor": 2
}
