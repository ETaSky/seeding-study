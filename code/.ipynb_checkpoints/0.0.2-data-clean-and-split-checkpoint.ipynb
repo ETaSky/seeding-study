{
 "cells": [
  {
   "cell_type": "code",
   "execution_count": 1,
   "metadata": {},
   "outputs": [],
   "source": [
    "import os\n",
    "import glob\n",
    "import numpy as np\n",
    "from biom import Table\n",
    "import qiime2 as q2\n",
    "import pandas as pd\n",
    "from biom.util import biom_open\n",
    "from scipy.stats import sem\n"
   ]
  },
  {
   "cell_type": "markdown",
   "metadata": {},
   "source": [
    "# Loading Processed Datasets"
   ]
  },
  {
   "cell_type": "code",
   "execution_count": 2,
   "metadata": {},
   "outputs": [
    {
     "data": {
      "text/plain": [
       "(13516, 87)"
      ]
     },
     "execution_count": 2,
     "metadata": {},
     "output_type": "execute_result"
    }
   ],
   "source": [
    "q2bt = q2.Artifact.load('../data/processed-data/table.qza')\n",
    "q2mf = q2.Metadata.load('../data/processed-data/metadata.qza')\n",
    "bt = q2bt.view(Table)\n",
    "mf = q2mf.to_dataframe()\n",
    "mf.shape # (Number of Samples, Number of Columns)"
   ]
  },
  {
   "cell_type": "code",
   "execution_count": 8,
   "metadata": {},
   "outputs": [
    {
     "data": {
      "text/plain": [
       "(193216, 13516)"
      ]
     },
     "execution_count": 8,
     "metadata": {},
     "output_type": "execute_result"
    }
   ],
   "source": [
    "bt.shape # (ASV, Number of Samples)"
   ]
  },
  {
   "cell_type": "code",
   "execution_count": 10,
   "metadata": {},
   "outputs": [
    {
     "data": {
      "text/plain": [
       "11585"
      ]
     },
     "execution_count": 10,
     "metadata": {},
     "output_type": "execute_result"
    }
   ],
   "source": [
    "sum(bt.sum(axis='sample') > 1000) # count the number of smaples with more than 1000 reads"
   ]
  },
  {
   "cell_type": "code",
   "execution_count": 11,
   "metadata": {},
   "outputs": [
    {
     "data": {
      "text/plain": [
       "array(7.70779332e+08)"
      ]
     },
     "execution_count": 11,
     "metadata": {},
     "output_type": "execute_result"
    }
   ],
   "source": [
    "bt.sum()"
   ]
  },
  {
   "cell_type": "code",
   "execution_count": 9,
   "metadata": {},
   "outputs": [
    {
     "name": "stdout",
     "output_type": "stream",
     "text": [
      "demisons of data table (192457, 12759)\n",
      "total reads 794469124.0\n",
      "Average depth per sample (after filtering out <=1000 reads samples): 62267.35041931186\n",
      "Min depth per sample 1005.0\n",
      "Max depth per sample 765606.0\n",
      "SD depth per sample 62405.85234945933\n",
      "SE depth per sample 552.5022110091264\n",
      "Median depth per sample 41397.0\n"
     ]
    }
   ],
   "source": [
    "bt_mbbs = bt.copy()\n",
    "filt_ = bt_mbbs.ids()[bt_mbbs.sum(axis='sample') > 1000]\n",
    "bt_mbbs = bt_mbbs.filter(filt_)\n",
    "bt_mbbs = bt_mbbs.filter(bt_mbbs.ids('observation')[bt_mbbs.sum('observation') > 0],\n",
    "                         axis='observation') # tabel with samples have more than 1000 reads\n",
    "print('demisons of data table', bt_mbbs.shape)\n",
    "print('total reads', bt_mbbs.sum())\n",
    "print('Average depth per sample (after filtering out <=1000 reads samples):', np.mean(bt_mbbs.sum(axis='sample')))\n",
    "print('Min depth per sample', np.min(bt_mbbs.sum(axis='sample')))\n",
    "print('Max depth per sample', np.max(bt_mbbs.sum(axis='sample')))\n",
    "print('SD depth per sample', np.std(bt_mbbs.sum(axis='sample')))\n",
    "print('SE depth per sample', sem(bt_mbbs.sum(axis='sample')))\n",
    "print('Median depth per sample', np.median(bt_mbbs.sum(axis='sample')))\n"
   ]
  },
  {
   "cell_type": "code",
   "execution_count": 10,
   "metadata": {},
   "outputs": [
    {
     "data": {
      "text/plain": [
       "Index(['qiita_study', 'prep_name', 'run_name', '100nt_deblur', 'sequencing_id',\n",
       "       'baby_birth_date', 'baby_sex', 'birth_mode', 'birth_mode_ms',\n",
       "       'body_site_corrected', 'body_site_orig', 'body_site_type',\n",
       "       'collection_timestamp', 'country', 'current_abx',\n",
       "       'current_breast_feeding', 'current_formula', 'current_solids',\n",
       "       'date_sampling', 'date_sampling_category',\n",
       "       'date_sampling_category_days', 'date_sampling_category_days_continuous',\n",
       "       'description', 'elevation', 'empo_1', 'empo_2', 'empo_3', 'env_biome',\n",
       "       'env_feature', 'env_material', 'env_package', 'exclusive_breastfeed',\n",
       "       'familyid', 'familyid_unique', 'geo_loc_name', 'hospital_name',\n",
       "       'host_age', 'host_age_units', 'host_body_habitat',\n",
       "       'host_body_mass_index', 'host_body_product', 'host_body_site',\n",
       "       'host_common_name', 'host_height', 'host_height_units',\n",
       "       'host_scientific_name', 'host_subject_id', 'host_taxid', 'host_weight',\n",
       "       'host_weight_units', 'irb_institution', 'lane', 'latitude', 'longitude',\n",
       "       'manuscript_use', 'mom_baby', 'mother_abx_1st_trimester',\n",
       "       'mother_abx_1st_trimester_name', 'mother_abx_2nd_trimester',\n",
       "       'mother_abx_2nd_trimester_name', 'mother_abx_3rd_trimester',\n",
       "       'mother_abx_3rd_trimester_name', 'mother_abx_perinatal',\n",
       "       'mother_abx_perinatal_name', 'mother_prenatal_gbs', 'mother_race',\n",
       "       'orig_sampleid', 'physical_specimen_location', 'primer_plate',\n",
       "       'project_name', 'qiita_study_id', 'real_sampling_time', 'run',\n",
       "       'sample_type', 'scientific_name', 'seeding_method', 'seqcount', 'sex',\n",
       "       'state', 'study_id', 'subjectid', 'subjectid_unique', 'taxon_id',\n",
       "       'title', 'tube_id', 'village', 'well'],\n",
       "      dtype='object')"
      ]
     },
     "execution_count": 10,
     "metadata": {},
     "output_type": "execute_result"
    }
   ],
   "source": [
    "mf.columns"
   ]
  },
  {
   "cell_type": "code",
   "execution_count": 11,
   "metadata": {},
   "outputs": [
    {
     "data": {
      "text/plain": [
       "10894.0    11287\n",
       "11648.0     1044\n",
       "1718.0       505\n",
       "Name: qiita_study, dtype: int64"
      ]
     },
     "execution_count": 11,
     "metadata": {},
     "output_type": "execute_result"
    }
   ],
   "source": [
    "mf.qiita_study.value_counts()"
   ]
  },
  {
   "cell_type": "code",
   "execution_count": 12,
   "metadata": {},
   "outputs": [
    {
     "data": {
      "text/plain": [
       "Feces            2850\n",
       "Mouth            2091\n",
       "Right_Forearm    1505\n",
       "Forehead         1281\n",
       "Nose             1199\n",
       "Vagina           1064\n",
       "Right_Areola      947\n",
       "Right_Hand        916\n",
       "Anus              307\n",
       "Forearm           304\n",
       "Breast_Milk       146\n",
       "Right_Foot         85\n",
       "Control            79\n",
       "Left_Hand          54\n",
       "Breast              8\n",
       "Name: body_site_corrected, dtype: int64"
      ]
     },
     "execution_count": 12,
     "metadata": {},
     "output_type": "execute_result"
    }
   ],
   "source": [
    "mf.body_site_corrected.value_counts()"
   ]
  },
  {
   "cell_type": "code",
   "execution_count": 13,
   "metadata": {},
   "outputs": [
    {
     "data": {
      "text/plain": [
       "Vag       200\n",
       "CS        100\n",
       "CSseed     53\n",
       "CSself      2\n",
       "Name: birth_mode_ms, dtype: int64"
      ]
     },
     "execution_count": 13,
     "metadata": {},
     "output_type": "execute_result"
    }
   ],
   "source": [
    "mf.groupby('subjectid_unique').agg({'birth_mode_ms':'first'}).birth_mode_ms.value_counts()"
   ]
  },
  {
   "cell_type": "code",
   "execution_count": 14,
   "metadata": {},
   "outputs": [
    {
     "data": {
      "text/plain": [
       "Possible          8280\n",
       "No-LowDepth       1367\n",
       "No-Replicates      893\n",
       "No-notrelevant     518\n",
       "No-misc            457\n",
       "No-Misc            104\n",
       "No-control          20\n",
       "Name: manuscript_use, dtype: int64"
      ]
     },
     "execution_count": 14,
     "metadata": {},
     "output_type": "execute_result"
    }
   ],
   "source": [
    "mf.manuscript_use.value_counts()"
   ]
  },
  {
   "cell_type": "code",
   "execution_count": 16,
   "metadata": {
    "scrolled": false
   },
   "outputs": [
    {
     "data": {
      "text/plain": [
       "{('Baby', 'No-LowDepth', 'Anus'): 8,\n",
       " ('Baby', 'No-LowDepth', 'Control'): 0,\n",
       " ('Baby', 'No-LowDepth', 'Feces'): 159,\n",
       " ('Baby', 'No-LowDepth', 'Forehead'): 66,\n",
       " ('Baby', 'No-LowDepth', 'Mouth'): 111,\n",
       " ('Baby', 'No-LowDepth', 'Nose'): 101,\n",
       " ('Baby', 'No-LowDepth', 'Right_Foot'): 1,\n",
       " ('Baby', 'No-LowDepth', 'Right_Forearm'): 183,\n",
       " ('Baby', 'No-LowDepth', 'Right_Hand'): 60,\n",
       " ('Baby', 'No-LowDepth', 'Vagina'): 6,\n",
       " ('Baby', 'No-Misc', 'Feces'): 104,\n",
       " ('Baby', 'No-Replicates', 'Feces'): 354,\n",
       " ('Baby', 'No-Replicates', 'Forehead'): 33,\n",
       " ('Baby', 'No-Replicates', 'Left_Hand'): 32,\n",
       " ('Baby', 'No-Replicates', 'Mouth'): 193,\n",
       " ('Baby', 'No-Replicates', 'Nose'): 5,\n",
       " ('Baby', 'No-Replicates', 'Right_Forearm'): 3,\n",
       " ('Baby', 'No-Replicates', 'Right_Hand'): 36,\n",
       " ('Baby', 'No-Replicates', 'Vagina'): 27,\n",
       " ('Baby', 'No-control', 'Control'): 1,\n",
       " ('Baby', 'No-notrelevant', 'Anus'): 74,\n",
       " ('Baby', 'No-notrelevant', 'Feces'): 5,\n",
       " ('Baby', 'No-notrelevant', 'Mouth'): 50,\n",
       " ('Baby', 'No-notrelevant', 'Right_Forearm'): 49,\n",
       " ('Baby', 'Possible', 'Anus'): 4,\n",
       " ('Baby', 'Possible', 'Feces'): 1419,\n",
       " ('Baby', 'Possible', 'Forehead'): 429,\n",
       " ('Baby', 'Possible', 'Left_Hand'): 11,\n",
       " ('Baby', 'Possible', 'Mouth'): 663,\n",
       " ('Baby', 'Possible', 'Nose'): 379,\n",
       " ('Baby', 'Possible', 'Right_Foot'): 41,\n",
       " ('Baby', 'Possible', 'Right_Forearm'): 523,\n",
       " ('Baby', 'Possible', 'Right_Hand'): 398,\n",
       " ('Baby', 'Possible', 'Vagina'): 8,\n",
       " ('Mom', 'No-LowDepth', 'Anus'): 8,\n",
       " ('Mom', 'No-LowDepth', 'Breast'): 2,\n",
       " ('Mom', 'No-LowDepth', 'Breast_Milk'): 72,\n",
       " ('Mom', 'No-LowDepth', 'Feces'): 50,\n",
       " ('Mom', 'No-LowDepth', 'Forehead'): 45,\n",
       " ('Mom', 'No-LowDepth', 'Mouth'): 50,\n",
       " ('Mom', 'No-LowDepth', 'Nose'): 41,\n",
       " ('Mom', 'No-LowDepth', 'Right_Areola'): 109,\n",
       " ('Mom', 'No-LowDepth', 'Right_Foot'): 2,\n",
       " ('Mom', 'No-LowDepth', 'Right_Forearm'): 148,\n",
       " ('Mom', 'No-LowDepth', 'Right_Hand'): 67,\n",
       " ('Mom', 'No-LowDepth', 'Vagina'): 52,\n",
       " ('Mom', 'No-Replicates', 'Anus'): 1,\n",
       " ('Mom', 'No-Replicates', 'Feces'): 8,\n",
       " ('Mom', 'No-Replicates', 'Forehead'): 6,\n",
       " ('Mom', 'No-Replicates', 'Mouth'): 13,\n",
       " ('Mom', 'No-Replicates', 'Nose'): 8,\n",
       " ('Mom', 'No-Replicates', 'Right_Areola'): 158,\n",
       " ('Mom', 'No-Replicates', 'Right_Forearm'): 3,\n",
       " ('Mom', 'No-Replicates', 'Right_Hand'): 4,\n",
       " ('Mom', 'No-Replicates', 'Vagina'): 9,\n",
       " ('Mom', 'No-misc', 'Anus'): 81,\n",
       " ('Mom', 'No-misc', 'Feces'): 31,\n",
       " ('Mom', 'No-misc', 'Forehead'): 35,\n",
       " ('Mom', 'No-misc', 'Mouth'): 38,\n",
       " ('Mom', 'No-misc', 'Nose'): 37,\n",
       " ('Mom', 'No-misc', 'Right_Areola'): 34,\n",
       " ('Mom', 'No-misc', 'Right_Forearm'): 34,\n",
       " ('Mom', 'No-misc', 'Right_Hand'): 38,\n",
       " ('Mom', 'No-misc', 'Vagina'): 111,\n",
       " ('Mom', 'No-notrelevant', 'Anus'): 77,\n",
       " ('Mom', 'No-notrelevant', 'Feces'): 1,\n",
       " ('Mom', 'No-notrelevant', 'Mouth'): 57,\n",
       " ('Mom', 'No-notrelevant', 'Right_Areola'): 61,\n",
       " ('Mom', 'No-notrelevant', 'Right_Forearm'): 60,\n",
       " ('Mom', 'No-notrelevant', 'Vagina'): 84,\n",
       " ('Mom', 'Possible', 'Anus'): 45,\n",
       " ('Mom', 'Possible', 'Breast'): 6,\n",
       " ('Mom', 'Possible', 'Breast_Milk'): 74,\n",
       " ('Mom', 'Possible', 'Feces'): 719,\n",
       " ('Mom', 'Possible', 'Forehead'): 377,\n",
       " ('Mom', 'Possible', 'Left_Hand'): 11,\n",
       " ('Mom', 'Possible', 'Mouth'): 627,\n",
       " ('Mom', 'Possible', 'Nose'): 354,\n",
       " ('Mom', 'Possible', 'Right_Areola'): 585,\n",
       " ('Mom', 'Possible', 'Right_Foot'): 41,\n",
       " ('Mom', 'Possible', 'Right_Forearm'): 502,\n",
       " ('Mom', 'Possible', 'Right_Hand'): 313,\n",
       " ('Mom', 'Possible', 'Vagina'): 751}"
      ]
     },
     "execution_count": 16,
     "metadata": {},
     "output_type": "execute_result"
    }
   ],
   "source": [
    "map_per = {bs_:mfbs.dropna(subset=['subjectid_unique',\n",
    "                                     'date_sampling_category_days_continuous'])\n",
    "           for bs_, mfbs in mf.groupby(['mom_baby', 'manuscript_use', 'body_site_corrected'])}\n",
    "{k:v.shape[0] for k,v in map_per.items()}\n"
   ]
  },
  {
   "cell_type": "code",
   "execution_count": null,
   "metadata": {},
   "outputs": [],
   "source": [
    "# Rename all Right_Forearm "
   ]
  },
  {
   "cell_type": "code",
   "execution_count": 241,
   "metadata": {
    "scrolled": false
   },
   "outputs": [
    {
     "name": "stdout",
     "output_type": "stream",
     "text": [
      "('Baby', 'Feces')\n",
      "(1780, 53)\n",
      "('Baby', 'Feces') 0-2\n",
      "(548, 53)\n",
      "('Baby', 'Feces') 17-26\n",
      "(183, 53)\n",
      "('Baby', 'Feces') 2-4\n",
      "(287, 53)\n",
      "('Baby', 'Feces') 26-51\n",
      "(423, 53)\n",
      "('Baby', 'Feces') 4-17\n",
      "(339, 53)\n",
      "('Baby', 'Mouth')\n",
      "(1014, 53)\n",
      "('Baby', 'Mouth') 0-2\n",
      "(401, 53)\n",
      "('Baby', 'Mouth') 17-26\n",
      "(80, 53)\n",
      "('Baby', 'Mouth') 2-4\n",
      "(177, 53)\n",
      "('Baby', 'Mouth') 26-51\n",
      "(206, 53)\n",
      "('Baby', 'Mouth') 4-17\n",
      "(150, 53)\n",
      "('Baby', 'Right_Forearm')\n",
      "(756, 53)\n",
      "('Baby', 'Right_Forearm') 0-2\n",
      "(323, 53)\n",
      "('Baby', 'Right_Forearm') 17-26\n",
      "(45, 53)\n",
      "('Baby', 'Right_Forearm') 2-4\n",
      "(143, 53)\n",
      "('Baby', 'Right_Forearm') 26-51\n",
      "(160, 53)\n",
      "('Baby', 'Right_Forearm') 4-17\n",
      "(85, 53)\n",
      "('Mom', 'Vagina')\n",
      "(1007, 52)\n",
      "('Mom', 'Feces')\n",
      "(808, 52)\n",
      "('Mom', 'Mouth')\n",
      "(785, 52)\n",
      "('Mom', 'Right_Forearm')\n",
      "(747, 52)\n"
     ]
    }
   ],
   "source": [
    "# use for now\n",
    "use_ = [('Baby', 'Feces'),\n",
    "        ('Baby', 'Mouth'),\n",
    "        ('Baby', 'Right_Forearm'),\n",
    "        ('Mom', 'Vagina'),\n",
    "        ('Mom', 'Feces'),\n",
    "        ('Mom', 'Mouth'),\n",
    "        ('Mom', 'Right_Forearm')]\n",
    "\n",
    "map_per = {bs_:mfbs.dropna(subset=['subjectid_unique',\n",
    "                                     'date_sampling_category_days_continuous'])\n",
    "           for bs_, mfbs in mf.groupby(['mom_baby', 'body_site_corrected'])}\n",
    "for mb_bs in use_:\n",
    "    # get subset\n",
    "    mf_mbbs = map_per[mb_bs].drop(['body_site_corrected'], axis=1)\n",
    "    mf_mbbs = mf_mbbs[mf_mbbs.date_sampling_category_days_continuous <= 360]\n",
    "    bt_mbbs = bt.copy()\n",
    "    out_ = os.path.join('../data/split-data',\n",
    "                        '-'.join(list(mb_bs)))\n",
    "    #filter\n",
    "    bt_mbbs = bt_mbbs.filter(mf_mbbs.index)\n",
    "    bt_mbbs = bt_mbbs.filter(bt_mbbs.ids('observation')[bt_mbbs.sum('observation') > 0],\n",
    "                             axis='observation')\n",
    "    mf_mbbs = mf_mbbs.reindex(bt_mbbs.ids())\n",
    "\n",
    "    # life-stage groupings\n",
    "    if mb_bs[0] == 'Baby':\n",
    "        life_stage = {'0-2':[-2, 14],\n",
    "                      '2-4':[14, 30],\n",
    "                      '4-17':[30, 120],\n",
    "                      '17-26':[120, 180],\n",
    "                      '26-51':[180, 360],\n",
    "                      '51-end':[360, 6000]}\n",
    "        # invert the dict\n",
    "        life_stage = {d:ls for ls, dr in life_stage.items()\n",
    "                      for d in range(dr[0]+1, dr[1]+1)}\n",
    "        # make lif-stage col.\n",
    "        mf_mbbs.date_sampling_category_days_continuous = mf_mbbs.date_sampling_category_days_continuous.astype(float)\n",
    "        mf_mbbs['life_stage'] = [life_stage[d]\n",
    "                                 for d in mf_mbbs.date_sampling_category_days_continuous]\n",
    "    # make subject id\n",
    "    mf_mbbs['host_subject_id'] = mf_mbbs.subjectid_unique.values\n",
    "\n",
    "    # save an write\n",
    "    q2bt_mbbs =  q2.Artifact.import_data('FeatureTable[Frequency]', bt_mbbs)\n",
    "    q2mf_mbbs = q2.Metadata(mf_mbbs)\n",
    "    \n",
    "    # write out\n",
    "    os.mkdir(out_)\n",
    "    q2bt_mbbs.save(os.path.join(out_,'table.qza'))\n",
    "    q2mf_mbbs.save(os.path.join(out_,'metadata.qza'))\n",
    "    mf_mbbs.to_csv(os.path.join(out_,'metadata.tsv'), sep='\\t')\n",
    "    with biom_open(os.path.join(out_,'table.biom'), 'w') as f:\n",
    "        bt_mbbs.to_hdf5(f, \"bs_type\")\n",
    "    print(mb_bs)\n",
    "    print(mf_mbbs.shape)\n",
    "    \n",
    "    # split by life-stage\n",
    "    if mb_bs[0] == 'Baby':\n",
    "        for ls_, mf_mbbs_ls in mf_mbbs.groupby('life_stage'):\n",
    "            out_ls = out_ + '-%s' % (ls_)\n",
    "            # subset table\n",
    "            bt_mbbs_ls = bt_mbbs.copy()\n",
    "            bt_mbbs_ls = bt_mbbs_ls.filter(mf_mbbs_ls.index)\n",
    "            bt_mbbs_ls = bt_mbbs_ls.filter(bt_mbbs_ls.ids('observation')[bt_mbbs_ls.sum('observation') > 0],\n",
    "                                           axis='observation')\n",
    "            mf_mbbs_ls = mf_mbbs_ls.reindex(bt_mbbs_ls.ids())\n",
    "            # export all\n",
    "            os.mkdir(out_ls)\n",
    "            # save an write\n",
    "            q2bt_mbbs_ls =  q2.Artifact.import_data('FeatureTable[Frequency]', bt_mbbs_ls)\n",
    "            q2mf_mbbs_ls = q2.Metadata(mf_mbbs_ls)\n",
    "            # write\n",
    "            q2bt_mbbs_ls.save(os.path.join(out_ls,'table.qza'))\n",
    "            q2mf_mbbs_ls.save(os.path.join(out_ls,'metadata.qza'))\n",
    "            mf_mbbs_ls.to_csv(os.path.join(out_ls,'metadata.tsv'), sep='\\t')\n",
    "            with biom_open(os.path.join(out_ls,'table.biom'), 'w') as f:\n",
    "                bt_mbbs_ls.to_hdf5(f, \"bs_type\")\n",
    "            print(mb_bs, ls_)\n",
    "            print(mf_mbbs_ls.shape)\n"
   ]
  },
  {
   "cell_type": "code",
   "execution_count": null,
   "metadata": {},
   "outputs": [],
   "source": []
  }
 ],
 "metadata": {
  "kernelspec": {
   "display_name": "Python 3",
   "language": "python",
   "name": "python3"
  },
  "language_info": {
   "codemirror_mode": {
    "name": "ipython",
    "version": 3
   },
   "file_extension": ".py",
   "mimetype": "text/x-python",
   "name": "python",
   "nbconvert_exporter": "python",
   "pygments_lexer": "ipython3",
   "version": "3.6.7"
  }
 },
 "nbformat": 4,
 "nbformat_minor": 2
}
