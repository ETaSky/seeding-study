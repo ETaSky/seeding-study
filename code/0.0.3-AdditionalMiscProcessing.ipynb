{
 "cells": [
  {
   "cell_type": "code",
   "execution_count": 1,
   "metadata": {},
   "outputs": [],
   "source": [
    "import os\n",
    "import glob\n",
    "import numpy as np\n",
    "import pandas as pd\n",
    "import qiime2 as q2\n",
    "from biom import Table, load_table\n",
    "from qiime2.plugins.feature_table.methods import rarefy\n",
    "from biom.util import biom_open"
   ]
  },
  {
   "cell_type": "code",
   "execution_count": 2,
   "metadata": {},
   "outputs": [
    {
     "data": {
      "text/plain": [
       "(12319, 52)"
      ]
     },
     "execution_count": 2,
     "metadata": {},
     "output_type": "execute_result"
    }
   ],
   "source": [
    "q2bt = q2.Artifact.load('../data/processed-data/table.qza')\n",
    "q2mf = q2.Metadata.load('../data/processed-data/metadata.qza')\n",
    "bt = q2bt.view(Table)\n",
    "mf = q2mf.to_dataframe()\n",
    "mf.shape"
   ]
  },
  {
   "cell_type": "code",
   "execution_count": 3,
   "metadata": {},
   "outputs": [
    {
     "name": "stdout",
     "output_type": "stream",
     "text": [
      "('Mom', 'Nose')\n",
      "(440, 52)\n",
      "('Mom', 'Right_Areola')\n",
      "(947, 52)\n"
     ]
    }
   ],
   "source": [
    "# additional mom samples\n",
    "use_ = [('Mom', 'Nose'),\n",
    "        ('Mom', 'Right_Areola')]\n",
    "map_per = {bs_:mfbs.dropna(subset=['subjectid_unique',\n",
    "                                     'date_sampling_category_days_continuous'])\n",
    "           for bs_, mfbs in mf.groupby(['mom_baby', 'body_site_corrected'])}\n",
    "for mb_bs in use_:\n",
    "    # get subset\n",
    "    mf_mbbs = map_per[mb_bs].drop(['body_site_corrected'], axis=1)\n",
    "    mf_mbbs = mf_mbbs[mf_mbbs.date_sampling_category_days_continuous <= 360]\n",
    "    bt_mbbs = bt.copy()\n",
    "    out_ = os.path.join('../data/split-data',\n",
    "                        '-'.join(list(mb_bs)))\n",
    "    #filter\n",
    "    bt_mbbs = bt_mbbs.filter(mf_mbbs.index)\n",
    "    bt_mbbs = bt_mbbs.filter(bt_mbbs.ids('observation')[bt_mbbs.sum('observation') > 0],\n",
    "                             axis='observation')\n",
    "    mf_mbbs = mf_mbbs.reindex(bt_mbbs.ids())\n",
    "    \n",
    "    # make subject id\n",
    "    mf_mbbs['host_subject_id'] = mf_mbbs.subjectid_unique.values\n",
    "\n",
    "    # save an write\n",
    "    q2bt_mbbs =  q2.Artifact.import_data('FeatureTable[Frequency]', bt_mbbs)\n",
    "    q2mf_mbbs = q2.Metadata(mf_mbbs)\n",
    "    \n",
    "    # write out\n",
    "    os.mkdir(out_)\n",
    "    q2bt_mbbs.save(os.path.join(out_,'table.qza'))\n",
    "    q2mf_mbbs.save(os.path.join(out_,'metadata.qza'))\n",
    "    mf_mbbs.to_csv(os.path.join(out_,'metadata.tsv'), sep='\\t')\n",
    "    with biom_open(os.path.join(out_,'table.biom'), 'w') as f:\n",
    "        bt_mbbs.to_hdf5(f, \"bs_type\")\n",
    "    print(mb_bs)\n",
    "    print(mf_mbbs.shape)"
   ]
  },
  {
   "cell_type": "code",
   "execution_count": 4,
   "metadata": {},
   "outputs": [
    {
     "name": "stdout",
     "output_type": "stream",
     "text": [
      "Starting: fecal\n",
      "Rarefy-depth 5000\n",
      "Starting: oral\n",
      "Rarefy-depth 5000\n",
      "Starting: skin\n",
      "Rarefy-depth 5000\n",
      "Starting: vagina\n",
      "Rarefy-depth 5000\n"
     ]
    }
   ],
   "source": [
    "# tables for import\n",
    "tables_ = {'fecal':'../data/split-data/Mom-Feces',\n",
    "            'oral':'../data/split-data/Mom-Mouth',\n",
    "            'skin':'../data/split-data/Mom-Right_Forearm',\n",
    "            'vagina':'../data/split-data/Mom-Vagina/'}\n",
    "\n",
    "# get each table and run rarefication\n",
    "for k_, path_ in tables_.items():\n",
    "    print('Starting: %s' % k_)\n",
    "    # get table(s)\n",
    "    table_ = load_table(os.path.join(path_, 'table.biom'))\n",
    "    table_ = pd.DataFrame(table_.matrix_data.toarray(),\n",
    "                          table_.ids('observation'),\n",
    "                          table_.ids()).T\n",
    "    tq2able_ = q2.Artifact.import_data('FeatureTable[Frequency]', table_)\n",
    "    # rar depth (hard set to 5000)\n",
    "    #rar_depth = int(max(table_.sum(1).min(), 1250))\n",
    "    rar_depth = 5000\n",
    "    print('Rarefy-depth %i' % rar_depth)\n",
    "    # run rare\n",
    "    table_rar = rarefy(tq2able_, rar_depth).rarefied_table\n",
    "    table_rar.save(os.path.join(path_, 'rarefy-table.qza'))\n"
   ]
  },
  {
   "cell_type": "code",
   "execution_count": 5,
   "metadata": {},
   "outputs": [
    {
     "name": "stdout",
     "output_type": "stream",
     "text": [
      "Starting: nasal\n",
      "Rarefy-depth 5000\n",
      "Starting: skin\n",
      "Rarefy-depth 5000\n"
     ]
    }
   ],
   "source": [
    "# tables for import\n",
    "tables_ = {'nasal':'../data/split-data/Mom-Nose',\n",
    "            'skin':'../data/split-data/Mom-Right_Areola'}\n",
    "\n",
    "# get each table and run rarefication\n",
    "for k_, path_ in tables_.items():\n",
    "    print('Starting: %s' % k_)\n",
    "    # get table(s)\n",
    "    table_ = load_table(os.path.join(path_, 'table.biom'))\n",
    "    table_ = pd.DataFrame(table_.matrix_data.toarray(),\n",
    "                          table_.ids('observation'),\n",
    "                          table_.ids()).T\n",
    "    tq2able_ = q2.Artifact.import_data('FeatureTable[Frequency]', table_)\n",
    "    # rar depth (hard set to 5000)\n",
    "    #rar_depth = int(max(table_.sum(1).min(), 1250))\n",
    "    rar_depth = 5000\n",
    "    print('Rarefy-depth %i' % rar_depth)\n",
    "    # run rare\n",
    "    table_rar = rarefy(tq2able_, rar_depth).rarefied_table\n",
    "    table_rar.save(os.path.join(path_, 'rarefy-table.qza'))"
   ]
  },
  {
   "cell_type": "code",
   "execution_count": 25,
   "metadata": {},
   "outputs": [],
   "source": [
    "bt_sum_count = pd.DataFrame({'sample_name': bt.ids(axis = \"sample\"), 'seqcount': bt.sum(axis = \"sample\")})\n",
    "bt_sum_count.to_csv(\"../data/processed-data/table_sum_count.csv\", index = False)"
   ]
  },
  {
   "cell_type": "code",
   "execution_count": null,
   "metadata": {},
   "outputs": [],
   "source": []
  }
 ],
 "metadata": {
  "kernelspec": {
   "display_name": "Python [conda env:qiime2-2019.7] *",
   "language": "python",
   "name": "conda-env-qiime2-2019.7-py"
  },
  "language_info": {
   "codemirror_mode": {
    "name": "ipython",
    "version": 3
   },
   "file_extension": ".py",
   "mimetype": "text/x-python",
   "name": "python",
   "nbconvert_exporter": "python",
   "pygments_lexer": "ipython3",
   "version": "3.6.7"
  }
 },
 "nbformat": 4,
 "nbformat_minor": 2
}
