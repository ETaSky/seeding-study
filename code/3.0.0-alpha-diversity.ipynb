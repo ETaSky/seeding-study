{
 "cells": [
  {
   "cell_type": "code",
   "execution_count": null,
   "metadata": {},
   "outputs": [],
   "source": [
    "import os\n",
    "import pandas as pd\n",
    "import qiime2 as q2\n",
    "from biom import Table, load_table\n",
    "from qiime2.plugins.diversity.methods import alpha\n",
    "from qiime2.plugins.feature_table.methods import rarefy\n",
    "from qiime2.plugins.diversity.methods import alpha_phylogenetic_alt\n"
   ]
  },
  {
   "cell_type": "code",
   "execution_count": 3,
   "metadata": {
    "scrolled": true
   },
   "outputs": [
    {
     "name": "stdout",
     "output_type": "stream",
     "text": [
      "Starting: fecal\n",
      "Rarefy-depth 5000\n",
      "Starting: oral\n",
      "Rarefy-depth 5000\n",
      "Starting: skin\n",
      "Rarefy-depth 5000\n"
     ]
    }
   ],
   "source": [
    "# rar depth (hard set to 5000)\n",
    "rar_depth = 5000\n",
    "# tables for import\n",
    "tables_ = {'fecal':'../data/split-data/Baby-Feces',\n",
    "            'oral':'../data/split-data/Baby-Mouth',\n",
    "            'skin':'../data/split-data/Baby-Right_Forearm'}\n",
    "# tree for import\n",
    "tree = '../data/processed-data/tree.qza' \n",
    "tree = q2.Artifact.load(tree)\n",
    "# get each table and run alpha's\n",
    "for k_, path_ in tables_.items():\n",
    "    print('Starting: %s' % k_)\n",
    "    # get table(s)\n",
    "    table_ = load_table(os.path.join(path_, 'table.biom'))\n",
    "    mf_ = pd.read_csv(os.path.join(path_, 'metadata.tsv'),\n",
    "                      sep='\\t', index_col=0)\n",
    "    mf_.columns = [col.replace('old_','') for col in mf_.columns]\n",
    "    table_ = pd.DataFrame(table_.matrix_data.toarray(),\n",
    "                          table_.ids('observation'),\n",
    "                          table_.ids()).T\n",
    "    tq2able_ = q2.Artifact.import_data('FeatureTable[Frequency]', table_)\n",
    "    print('Rarefy-depth %i' % rar_depth)\n",
    "    # run rare\n",
    "    table_rar = rarefy(tq2able_, rar_depth).rarefied_table\n",
    "    table_rar.save(os.path.join(path_, 'rarefy-table.qza'))\n",
    "    # run alphas\n",
    "    shannon_alpha = alpha(table_rar, 'shannon').alpha_diversity\n",
    "    faiths_alpha = alpha_phylogenetic_alt(table_rar,\n",
    "                                          tree,\n",
    "                                          'faith_pd').alpha_diversity\n",
    "    # save qza\n",
    "    out_ = '../data/alpha-diversity/%s' % (k_)\n",
    "    shannon_alpha.save(os.path.join(out_, 'shannon-alpha.qza'))\n",
    "    faiths_alpha.save(os.path.join(out_, 'faiths-alpha.qza'))\n",
    "    # save tsv + metadata for other purposes\n",
    "    shannon_alpha = shannon_alpha.view(q2.Metadata).to_dataframe()\n",
    "    faiths_alpha = faiths_alpha.view(q2.Metadata).to_dataframe()\n",
    "    shannon_alpha = pd.concat([shannon_alpha,\n",
    "                               mf_.reindex(shannon_alpha.index)],\n",
    "                              axis=1)\n",
    "    faiths_alpha = pd.concat([faiths_alpha,\n",
    "                              mf_.reindex(faiths_alpha.index)],\n",
    "                             axis=1)\n",
    "    # write tsv\n",
    "    shannon_alpha.to_csv(os.path.join(out_, 'shannon-alpha.tsv'), sep='\\t')\n",
    "    faiths_alpha.to_csv(os.path.join(out_, 'faiths-alpha.tsv'), sep='\\t')\n"
   ]
  }
 ],
 "metadata": {
  "kernelspec": {
   "display_name": "Python 3",
   "language": "python",
   "name": "python3"
  },
  "language_info": {
   "codemirror_mode": {
    "name": "ipython",
    "version": 3
   },
   "file_extension": ".py",
   "mimetype": "text/x-python",
   "name": "python",
   "nbconvert_exporter": "python",
   "pygments_lexer": "ipython3",
   "version": "3.6.7"
  }
 },
 "nbformat": 4,
 "nbformat_minor": 2
}
